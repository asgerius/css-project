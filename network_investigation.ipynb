{
 "metadata": {
  "language_info": {
   "codemirror_mode": {
    "name": "ipython",
    "version": 3
   },
   "file_extension": ".py",
   "mimetype": "text/x-python",
   "name": "python",
   "nbconvert_exporter": "python",
   "pygments_lexer": "ipython3",
   "version": "3.8.5"
  },
  "orig_nbformat": 2,
  "kernelspec": {
   "name": "python38564bit3146a4cc6db04886890e25bf876d3a33",
   "display_name": "Python 3.8.5 64-bit",
   "language": "python"
  }
 },
 "nbformat": 4,
 "nbformat_minor": 2,
 "cells": [
  {
   "source": [
    "# Network Analysis\n",
    "### The next section contains the network analysis of programmers interacting with other programmers on the basis of having a problem with a given programming language.\n",
    "#### The following steps are taken in this part of the Stack Overflow investigation:\n",
    "\n",
    "1. Create individual networks for each programming language with authors as nodes and interactions (answering questions or commenting answers) as links.\n",
    "\n",
    "2. Perform basic network analysis (counts, degree distribution etc.) on language-specific networks.\n",
    "\n",
    "3. Create one big StackOverflow-network including all 16 programming languages with same types of nodes and links.\n",
    "\n",
    "4. Perform basic network analysis on the StackOverflow-network.\n",
    "\n",
    "5. Vizualize the StackOverflow-network.\n",
    "\n",
    "6. Perform advanced network analysis on the StackOverflow-network by investigating the different subnetworks, communities, modularity etc.\n",
    "\n",
    "7. Use the Louvain algorithm to create a network from the data and compare to the StackOverflow-network.\n",
    " "
   ],
   "cell_type": "markdown",
   "metadata": {}
  },
  {
   "cell_type": "code",
   "execution_count": 1,
   "metadata": {},
   "outputs": [],
   "source": [
    "### Imports\n",
    "import pandas as pd\n",
    "import numpy as np\n",
    "import networkx as nx\n",
    "from scipy import stats \n",
    "from operator import itemgetter \n",
    "from collections import Counter\n",
    "import re\n",
    "from glob import glob as glob  # glob\n",
    "from tqdm import tqdm\n",
    "from pelutils import Table, thousand_seps\n",
    "import itertools\n",
    "\n",
    "import matplotlib as mpl\n",
    "import matplotlib.pyplot as plt\n",
    "import matplotlib.dates as mdates\n",
    "\n",
    "def setup_mpl():\n",
    "    mpl.rcParams['font.family'] = \"Liberation Serif\"\n",
    "    mpl.rcParams['font.size'] = 11\n",
    "    mpl.rcParams['figure.figsize'] = (7,2.5)\n",
    "    mpl.rcParams['figure.dpi'] = 200\n",
    "    #mpl.rcParams['lines.linewidth'] = 1\n",
    "setup_mpl()\n"
   ]
  },
  {
   "cell_type": "code",
   "execution_count": 4,
   "metadata": {},
   "outputs": [
    {
     "output_type": "stream",
     "name": "stderr",
     "text": [
      "100%|██████████| 10/10 [00:02<00:00,  4.91it/s]\n",
      "Language    | Questions | Answers | Comments | Total  \n",
      "Rust        |    12,968 |  16,526 |   25,362 |  54,856\n",
      "Typescript  |    15,953 |  25,381 |   26,942 |  68,276\n",
      "Python      |    26,100 |  47,627 |   53,072 | 126,799\n",
      "Kotlin      |     9,387 |  15,443 |   17,034 |  41,864\n",
      "Go          |    19,106 |  30,043 |   37,714 |  86,863\n",
      "Julia       |     6,175 |   8,259 |   10,143 |  24,577\n",
      "Dart        |    11,922 |  19,245 |   16,830 |  47,997\n",
      "C#          |    26,100 |  43,625 |   65,802 | 135,527\n",
      "Objective-c |    26,046 |  40,216 |   51,188 | 117,450\n",
      "Vba         |    25,718 |  38,393 |   58,196 | 122,307\n",
      "            |   179,475 | 284,758 |  362,283 | 826,516\n"
     ]
    },
    {
     "output_type": "execute_result",
     "data": {
      "text/plain": [
       "       language                                   title creation_date score  \\\n",
       "0          rust                      What is typestate?    1278652929    52   \n",
       "1          rust                         Sockets in Rust    1327395685    11   \n",
       "2          rust  How do you access enum values in Rust?    1328174894    46   \n",
       "3          rust                  Can&#39;t compile Rust    1329327923     7   \n",
       "4          rust     Rust pattern matching over a vector    1329247015    15   \n",
       "...         ...                                     ...           ...   ...   \n",
       "826511   kotlin                                     NaN    1577635185     0   \n",
       "826512   kotlin                                     NaN    1577644424     0   \n",
       "826513   kotlin                                     NaN    1577644520     0   \n",
       "826514   kotlin                                     NaN    1577624257     0   \n",
       "826515   kotlin                                     NaN    1577625835     0   \n",
       "\n",
       "       owner/user_id                                               link  \\\n",
       "0              42323  https://stackoverflow.com/questions/3210025/wh...   \n",
       "1             149482  https://stackoverflow.com/questions/8984174/so...   \n",
       "2             947301  https://stackoverflow.com/questions/9109872/ho...   \n",
       "3             820736  https://stackoverflow.com/questions/9298459/ca...   \n",
       "4             454274  https://stackoverflow.com/questions/9282805/ru...   \n",
       "...              ...                                                ...   \n",
       "826511        115145                                                NaN   \n",
       "826512        448037                                                NaN   \n",
       "826513        115145                                                NaN   \n",
       "826514       2637449                                                NaN   \n",
       "826515       9241978                                                NaN   \n",
       "\n",
       "       question_id                                               body  \\\n",
       "0          3210025  <p>What does TypeState refer to in respect to ...   \n",
       "1          8984174  <p>Are there any socket or net libraries for R...   \n",
       "2          9109872  <pre><code>struct Point {\\n    x: f64,\\n    y:...   \n",
       "3          9298459  <p>I'm on Debian and following the compile ins...   \n",
       "4          9282805  <p>The <a href=\"http://doc.rust-lang.org/doc/t...   \n",
       "...            ...                                                ...   \n",
       "826511    59520360  I am uncertain why you have that <code>Binding...   \n",
       "826512    59520360  I tried by using extension fncn, still not abl...   \n",
       "826513    59520360  Perhaps there is an issue with the URL or with...   \n",
       "826514    59519303  What is the problem, Can you mention here? Can...   \n",
       "826515    59519303  you don&#39;t clear <code>paintFlags</code> wh...   \n",
       "\n",
       "       owner/reputation view_count type  \n",
       "0                 16194       8629    q  \n",
       "1                 99545       7049    q  \n",
       "2                  3732      29429    q  \n",
       "3                   281       2086    q  \n",
       "4                   301      13107    q  \n",
       "...                 ...        ...  ...  \n",
       "826511           904515        NaN    c  \n",
       "826512             3120        NaN    c  \n",
       "826513           904515        NaN    c  \n",
       "826514            12996        NaN    c  \n",
       "826515            10406        NaN    c  \n",
       "\n",
       "[826516 rows x 11 columns]"
      ],
      "text/html": "<div>\n<style scoped>\n    .dataframe tbody tr th:only-of-type {\n        vertical-align: middle;\n    }\n\n    .dataframe tbody tr th {\n        vertical-align: top;\n    }\n\n    .dataframe thead th {\n        text-align: right;\n    }\n</style>\n<table border=\"1\" class=\"dataframe\">\n  <thead>\n    <tr style=\"text-align: right;\">\n      <th></th>\n      <th>language</th>\n      <th>title</th>\n      <th>creation_date</th>\n      <th>score</th>\n      <th>owner/user_id</th>\n      <th>link</th>\n      <th>question_id</th>\n      <th>body</th>\n      <th>owner/reputation</th>\n      <th>view_count</th>\n      <th>type</th>\n    </tr>\n  </thead>\n  <tbody>\n    <tr>\n      <th>0</th>\n      <td>rust</td>\n      <td>What is typestate?</td>\n      <td>1278652929</td>\n      <td>52</td>\n      <td>42323</td>\n      <td>https://stackoverflow.com/questions/3210025/wh...</td>\n      <td>3210025</td>\n      <td>&lt;p&gt;What does TypeState refer to in respect to ...</td>\n      <td>16194</td>\n      <td>8629</td>\n      <td>q</td>\n    </tr>\n    <tr>\n      <th>1</th>\n      <td>rust</td>\n      <td>Sockets in Rust</td>\n      <td>1327395685</td>\n      <td>11</td>\n      <td>149482</td>\n      <td>https://stackoverflow.com/questions/8984174/so...</td>\n      <td>8984174</td>\n      <td>&lt;p&gt;Are there any socket or net libraries for R...</td>\n      <td>99545</td>\n      <td>7049</td>\n      <td>q</td>\n    </tr>\n    <tr>\n      <th>2</th>\n      <td>rust</td>\n      <td>How do you access enum values in Rust?</td>\n      <td>1328174894</td>\n      <td>46</td>\n      <td>947301</td>\n      <td>https://stackoverflow.com/questions/9109872/ho...</td>\n      <td>9109872</td>\n      <td>&lt;pre&gt;&lt;code&gt;struct Point {\\n    x: f64,\\n    y:...</td>\n      <td>3732</td>\n      <td>29429</td>\n      <td>q</td>\n    </tr>\n    <tr>\n      <th>3</th>\n      <td>rust</td>\n      <td>Can&amp;#39;t compile Rust</td>\n      <td>1329327923</td>\n      <td>7</td>\n      <td>820736</td>\n      <td>https://stackoverflow.com/questions/9298459/ca...</td>\n      <td>9298459</td>\n      <td>&lt;p&gt;I'm on Debian and following the compile ins...</td>\n      <td>281</td>\n      <td>2086</td>\n      <td>q</td>\n    </tr>\n    <tr>\n      <th>4</th>\n      <td>rust</td>\n      <td>Rust pattern matching over a vector</td>\n      <td>1329247015</td>\n      <td>15</td>\n      <td>454274</td>\n      <td>https://stackoverflow.com/questions/9282805/ru...</td>\n      <td>9282805</td>\n      <td>&lt;p&gt;The &lt;a href=\"http://doc.rust-lang.org/doc/t...</td>\n      <td>301</td>\n      <td>13107</td>\n      <td>q</td>\n    </tr>\n    <tr>\n      <th>...</th>\n      <td>...</td>\n      <td>...</td>\n      <td>...</td>\n      <td>...</td>\n      <td>...</td>\n      <td>...</td>\n      <td>...</td>\n      <td>...</td>\n      <td>...</td>\n      <td>...</td>\n      <td>...</td>\n    </tr>\n    <tr>\n      <th>826511</th>\n      <td>kotlin</td>\n      <td>NaN</td>\n      <td>1577635185</td>\n      <td>0</td>\n      <td>115145</td>\n      <td>NaN</td>\n      <td>59520360</td>\n      <td>I am uncertain why you have that &lt;code&gt;Binding...</td>\n      <td>904515</td>\n      <td>NaN</td>\n      <td>c</td>\n    </tr>\n    <tr>\n      <th>826512</th>\n      <td>kotlin</td>\n      <td>NaN</td>\n      <td>1577644424</td>\n      <td>0</td>\n      <td>448037</td>\n      <td>NaN</td>\n      <td>59520360</td>\n      <td>I tried by using extension fncn, still not abl...</td>\n      <td>3120</td>\n      <td>NaN</td>\n      <td>c</td>\n    </tr>\n    <tr>\n      <th>826513</th>\n      <td>kotlin</td>\n      <td>NaN</td>\n      <td>1577644520</td>\n      <td>0</td>\n      <td>115145</td>\n      <td>NaN</td>\n      <td>59520360</td>\n      <td>Perhaps there is an issue with the URL or with...</td>\n      <td>904515</td>\n      <td>NaN</td>\n      <td>c</td>\n    </tr>\n    <tr>\n      <th>826514</th>\n      <td>kotlin</td>\n      <td>NaN</td>\n      <td>1577624257</td>\n      <td>0</td>\n      <td>2637449</td>\n      <td>NaN</td>\n      <td>59519303</td>\n      <td>What is the problem, Can you mention here? Can...</td>\n      <td>12996</td>\n      <td>NaN</td>\n      <td>c</td>\n    </tr>\n    <tr>\n      <th>826515</th>\n      <td>kotlin</td>\n      <td>NaN</td>\n      <td>1577625835</td>\n      <td>0</td>\n      <td>9241978</td>\n      <td>NaN</td>\n      <td>59519303</td>\n      <td>you don&amp;#39;t clear &lt;code&gt;paintFlags&lt;/code&gt; wh...</td>\n      <td>10406</td>\n      <td>NaN</td>\n      <td>c</td>\n    </tr>\n  </tbody>\n</table>\n<p>826516 rows × 11 columns</p>\n</div>"
     },
     "metadata": {},
     "execution_count": 4
    }
   ],
   "source": [
    "### First step is loading the data, for which we use prior function\n",
    "\n",
    "loved_languages = {\n",
    "    \"rust\":        86.1,\n",
    "    \"typescript\":  67.1,\n",
    "    \"python\":      66.7,\n",
    "    \"kotlin\":      62.9,\n",
    "    \"go\":          62.3,\n",
    "    \"julia\":       62.2,\n",
    "    \"dart\":        62.1,\n",
    "    \"c#\":          59.7,\n",
    "    # \"swift\":       59.5,\n",
    "    # \"javascript\":  58.3,\n",
    "    # \"scala\":       53.2,\n",
    "    # \"haskell\":     51.7,\n",
    "    # \"r\":           44.5,\n",
    "    # \"java\":        44.1,\n",
    "    # \"c++\":         43.4,\n",
    "    # \"ruby\":        42.9,\n",
    "    # \"php\":         37.3,\n",
    "    # \"c\":           33.1,\n",
    "    # \"assembly\":    29.4,\n",
    "    # \"perl\":        28.6,\n",
    "    \"objective-c\": 23.4,\n",
    "    \"vba\":         19.6,\n",
    "}\n",
    "\n",
    "# Collect all data into single dataframe\n",
    "\n",
    "def lang(fpath: str) -> str:\n",
    "    # Get programming language from a filepath\n",
    "    return \"-\".join(fpath[fpath.index(\"/\")+1:].split(\"-\")[:-1])\n",
    "\n",
    "qdfs = list()\n",
    "adfs = list()\n",
    "cdfs = list()\n",
    "\n",
    "for qf, af, cf in tqdm(zip(glob(\"data/*-questions.pkl\"), glob(\"data/*-answers.pkl\"), glob(\"data/*-comments.pkl\")), total=len(loved_languages)):\n",
    "    qdfs.append(pd.read_pickle(qf))\n",
    "    qdfs[-1][\"language\"] = lang(qf)\n",
    "    qdfs[-1][\"type\"] = \"q\"\n",
    "    adfs.append(pd.read_pickle(af))\n",
    "    adfs[-1][\"language\"] = lang(af)\n",
    "    adfs[-1][\"type\"] = \"a\"\n",
    "    cdfs.append(pd.read_pickle(cf))\n",
    "    cdfs[-1][\"language\"] = lang(cf)\n",
    "    cdfs[-1][\"type\"] = \"c\"\n",
    "\n",
    "# Shuffle to prevent systematic biases in contiguous subsets of dataframe\n",
    "so = pd.concat(qdfs + adfs + cdfs, ignore_index=True)\n",
    "# so = pd.concat(qdfs + adfs + cdfs, ignore_index=True).sample(frac=1)\n",
    "del qdfs, adfs, cdfs\n",
    "\n",
    "\n",
    "# Data summary\n",
    "t = Table()\n",
    "t.add_row([\"Language\", \"Questions\", \"Answers\", \"Comments\", \"Total\"])\n",
    "for lang in loved_languages:\n",
    "    t.add_row([\n",
    "        lang.capitalize(),\n",
    "        *[thousand_seps(sum((so[\"language\"] == lang) & (so[\"type\"] == t))) for t in (\"q\", \"a\", \"c\")],\n",
    "        thousand_seps(sum(so[\"language\"] == lang)),\n",
    "    ], [1, 0, 0, 0, 0])\n",
    "t.add_row([\n",
    "    \"\",\n",
    "    thousand_seps(sum(so[\"type\"] == \"q\")),\n",
    "    thousand_seps(sum(so[\"type\"] == \"a\")),\n",
    "    thousand_seps(sum(so[\"type\"] == \"c\")),\n",
    "    thousand_seps(len(so)),\n",
    "], [1, 0, 0, 0, 0])\n",
    "print(t)\n",
    "so"
   ]
  },
  {
   "source": [
    "1. Create individual networks for each programming language with authors as nodes and interactions (answering questions or commenting answers) as links."
   ],
   "cell_type": "markdown",
   "metadata": {}
  },
  {
   "cell_type": "code",
   "execution_count": null,
   "metadata": {},
   "outputs": [],
   "source": [
    "\n",
    "\n",
    "question_authors = dict(zip(python_questions['question_id'], python_questions['owner/user_id']))\n",
    "answer_authors = dict(zip(python_answers['question_id'], python_questions['owner/user_id']))\n",
    "comment_authors = dict(zip(python_answers['question_id'], python_questions['owner/user_id']))"
   ]
  },
  {
   "source": [
    "2. Perform basic network analysis (counts, degree distribution etc.) on language-specific networks."
   ],
   "cell_type": "markdown",
   "metadata": {}
  },
  {
   "cell_type": "code",
   "execution_count": null,
   "metadata": {},
   "outputs": [],
   "source": []
  },
  {
   "source": [
    "3. Create one big StackOverflow-network including all 16 programming languages with same types of nodes and links."
   ],
   "cell_type": "markdown",
   "metadata": {}
  },
  {
   "cell_type": "code",
   "execution_count": null,
   "metadata": {},
   "outputs": [],
   "source": []
  },
  {
   "source": [
    "4. Perform basic network analysis on the StackOverflow-network."
   ],
   "cell_type": "markdown",
   "metadata": {}
  },
  {
   "cell_type": "code",
   "execution_count": null,
   "metadata": {},
   "outputs": [],
   "source": []
  },
  {
   "source": [
    "5. Vizualize the StackOverflow-network."
   ],
   "cell_type": "markdown",
   "metadata": {}
  },
  {
   "cell_type": "code",
   "execution_count": null,
   "metadata": {},
   "outputs": [],
   "source": []
  },
  {
   "source": [
    "6. Perform advanced network analysis on the StackOverflow-network by investigating the different subnetworks, communities, modularity etc."
   ],
   "cell_type": "markdown",
   "metadata": {}
  },
  {
   "cell_type": "code",
   "execution_count": null,
   "metadata": {},
   "outputs": [],
   "source": []
  },
  {
   "source": [
    "7. Use the Louvain algorithm to create a network from the data and compare to the StackOverflow-network.\n"
   ],
   "cell_type": "markdown",
   "metadata": {}
  },
  {
   "cell_type": "code",
   "execution_count": null,
   "metadata": {},
   "outputs": [],
   "source": []
  }
 ]
}