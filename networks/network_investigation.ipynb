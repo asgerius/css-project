{
 "metadata": {
  "language_info": {
   "codemirror_mode": {
    "name": "ipython",
    "version": 3
   },
   "file_extension": ".py",
   "mimetype": "text/x-python",
   "name": "python",
   "nbconvert_exporter": "python",
   "pygments_lexer": "ipython3",
   "version": 3
  },
  "orig_nbformat": 2
 },
 "nbformat": 4,
 "nbformat_minor": 2,
 "cells": [
  {
   "source": [
    "# Network Analysis\n",
    "### The next section contains the network analysis of programmers interacting with other programmers on the basis of having a problem with a given programming language.\n",
    "#### The following steps are taken in this part of the Stack Overflow investigation:\n",
    "\n",
    "- Create individual networks for each programming language with authors as nodes and interactions (answering questions or commenting answers) as links.\n",
    "\n",
    "- Perform basic network analysis (counts, degree distribution etc.) on language-specific networks.\n",
    "\n",
    "- Create one all-encompasing, StackOverflow-network including all 16 programming languages with same types of nodes and links.\n",
    "\n",
    "- Perform basic network analysis on the StackOverflow-network.\n",
    "\n",
    "- Vizualize the StackOverflow-network.\n",
    "\n",
    "- Perform advanced network analysis on the StackOverflow-network by investigating the different subnetworks, communities, modularity etc.\n",
    "\n",
    "- Use the Louvain algorithm to create a network from the data and compare to the StackOverflow-network.\n",
    " "
   ],
   "cell_type": "markdown",
   "metadata": {}
  },
  {
   "cell_type": "code",
   "execution_count": null,
   "metadata": {},
   "outputs": [],
   "source": [
    "### Imports\n",
    "\n",
    "import pandas as pd\n",
    "import numpy as np\n",
    "import networkx as nx\n",
    "from scipy import stats \n",
    "from operator import itemgetter \n",
    "from collections import Counter\n",
    "\n",
    "import matplotlib as mpl\n",
    "import matplotlib.pyplot as plt\n",
    "import matplotlib.dates as mdates\n",
    "\n",
    "def setup_mpl():\n",
    "    #mpl.rcParams['font.family'] = 'Helvetica Neue'\n",
    "    mpl.rcParams['font.size'] = 11\n",
    "    mpl.rcParams['figure.figsize'] = (7,2.5)\n",
    "    mpl.rcParams['figure.dpi'] = 200\n",
    "    #mpl.rcParams['lines.linewidth'] = 1\n",
    "setup_mpl()"
   ]
  },
  {
   "cell_type": "code",
   "execution_count": null,
   "metadata": {},
   "outputs": [],
   "source": [
    "### First step is loading the data, for which we use prior function\n",
    "\n"
   ]
  }
 ]
}