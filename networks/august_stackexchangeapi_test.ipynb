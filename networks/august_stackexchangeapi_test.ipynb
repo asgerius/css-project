{
 "metadata": {
  "language_info": {
   "codemirror_mode": {
    "name": "ipython",
    "version": 3
   },
   "file_extension": ".py",
   "mimetype": "text/x-python",
   "name": "python",
   "nbconvert_exporter": "python",
   "pygments_lexer": "ipython3",
   "version": "3.8.5"
  },
  "orig_nbformat": 2,
  "kernelspec": {
   "name": "python38564bit3146a4cc6db04886890e25bf876d3a33",
   "display_name": "Python 3.8.5 64-bit",
   "language": "python"
  }
 },
 "nbformat": 4,
 "nbformat_minor": 2,
 "cells": [
  {
   "cell_type": "code",
   "execution_count": null,
   "metadata": {},
   "outputs": [],
   "source": [
    "print(\"Hello World\")"
   ]
  },
  {
   "cell_type": "code",
   "execution_count": 1,
   "metadata": {},
   "outputs": [],
   "source": [
    "## Imports\n",
    "import numpy as np\n",
    "from stackapi import StackAPI\n",
    "import pandas as pd"
   ]
  },
  {
   "cell_type": "code",
   "execution_count": null,
   "metadata": {},
   "outputs": [],
   "source": [
    "SITE = StackAPI('stackoverflow')"
   ]
  },
  {
   "cell_type": "code",
   "execution_count": null,
   "metadata": {},
   "outputs": [],
   "source": [
    "comments = SITE.fetch('comments')['items']\n",
    "comments"
   ]
  },
  {
   "cell_type": "code",
   "execution_count": null,
   "metadata": {},
   "outputs": [],
   "source": [
    "answers = SITE.fetch('answers')['items']\n",
    "answers"
   ]
  },
  {
   "cell_type": "code",
   "execution_count": null,
   "metadata": {},
   "outputs": [],
   "source": [
    "python_questions = SITE.fetch(endpoint='questions', tagged='python', sort='votes', min=100)['items']\n",
    "# python_questions"
   ]
  },
  {
   "cell_type": "code",
   "execution_count": null,
   "metadata": {},
   "outputs": [],
   "source": [
    "python_questions_answered = list(question for question in python_questions if question['answer_count'] > 10) #question['is_answered'] == True)\n",
    "python_questions_answered\n",
    "len(python_questions_answered)"
   ]
  },
  {
   "cell_type": "code",
   "execution_count": null,
   "metadata": {},
   "outputs": [],
   "source": [
    "python_questions_popular = list(question for question in python_questions if question['score'] > 1000)\n",
    "python_questions_popular\n",
    "len(python_questions_popular)"
   ]
  },
  {
   "cell_type": "code",
   "execution_count": null,
   "metadata": {
    "tags": []
   },
   "outputs": [],
   "source": [
    "for question in python_questions:\n",
    "    print(question['owner']['reputation'])"
   ]
  },
  {
   "cell_type": "code",
   "execution_count": null,
   "metadata": {},
   "outputs": [],
   "source": [
    "python_questions_userrep = list(question for question in python_questions if question['owner']['reputation'] > 1000)\n",
    "python_questions_userrep\n",
    "len(python_questions_userrep)"
   ]
  },
  {
   "cell_type": "code",
   "execution_count": null,
   "metadata": {},
   "outputs": [],
   "source": [
    "print(python_questions['owner']['user_id'] == 'Kevin Griffin')"
   ]
  },
  {
   "cell_type": "code",
   "execution_count": null,
   "metadata": {},
   "outputs": [],
   "source": [
    "dart_questions = pd.read_pickle('/home/augustsemrau/drive/6semester/CSS_02467/css-project/data/python-questions.pkl')\n",
    "dart_questions"
   ]
  },
  {
   "cell_type": "code",
   "execution_count": null,
   "metadata": {},
   "outputs": [],
   "source": [
    "dart_answers = pd.read_pickle('/home/augustsemrau/drive/6semester/CSS_02467/css-project/data/python-answers_2010-01-01_2020-01-01.pkl')\n",
    "dart_answers"
   ]
  },
  {
   "cell_type": "code",
   "execution_count": null,
   "metadata": {},
   "outputs": [],
   "source": [
    "dart_comments = pd.read_pickle('/home/augustsemrau/drive/6semester/CSS_02467/css-project/data/python-comments_2010-01-01_2020-01-01.pkl')\n",
    "dart_comments"
   ]
  },
  {
   "cell_type": "code",
   "execution_count": 2,
   "metadata": {},
   "outputs": [],
   "source": [
    "dart_questions = pd.read_pickle('/home/augustsemrau/drive/6semester/CSS_02467/css-project/data/perl/questions.pkl')\n",
    "dart_answers = pd.read_pickle('/home/augustsemrau/drive/6semester/CSS_02467/css-project/data/perl/answers.pkl')\n",
    "dart_comments = pd.read_pickle('/home/augustsemrau/drive/6semester/CSS_02467/css-project/data/perl/comments.pkl')"
   ]
  },
  {
   "cell_type": "code",
   "execution_count": 3,
   "metadata": {},
   "outputs": [
    {
     "output_type": "execute_result",
     "data": {
      "text/plain": [
       "      language                                               body view_count  \\\n",
       "0         perl  <p>I have got an XML to parse. Though I am abl...        169   \n",
       "1         perl  <p>I'm having trouble with this problem, this ...         63   \n",
       "2         perl  <p>I have a multiline string as input. For exa...         80   \n",
       "3         perl  <p>Ok, I already fixed, anyway I don't know wh...        238   \n",
       "4         perl  <p>I have some files I am processing, and I wo...       1194   \n",
       "...        ...                                                ...        ...   \n",
       "19617     perl  <p>I have a subroutine, </p>\\n\\n<pre><code>use...         72   \n",
       "19618     perl  <p>I have really no idea, why this is wrong:</...        107   \n",
       "19619     perl  <p>I have a single directory with 3 million sm...        205   \n",
       "19620     perl  <p>I have around 100 different scripts and com...         73   \n",
       "19621     perl  <p>I have file (node_list.txt) which is having...        121   \n",
       "\n",
       "                                                   title creation_date  \\\n",
       "0      How do we separate values fetched from findval...    1420673706   \n",
       "1                  segmentation fault in gtk2 and thread    1420673184   \n",
       "2      How do I create a set from a multi-line string...    1420667612   \n",
       "3                  MySQL &quot;command out of sync&quot;    1420667326   \n",
       "4                            perl regex to remove dashes    1420658199   \n",
       "...                                                  ...           ...   \n",
       "19617  How can I set a default file handle in a perl ...    1577392015   \n",
       "19618       Perl: Hash slices cannot be lexically scoped    1577378644   \n",
       "19619  How can I efficiently check if a file exists i...    1577378409   \n",
       "19620  Parsing the Perl script command(s) and get the...    1577345230   \n",
       "19621           Split file by equal parts based on count    1577340010   \n",
       "\n",
       "      question_id score                                               link  \\\n",
       "0        27830619     1  https://stackoverflow.com/questions/27830619/h...   \n",
       "1        27830523     1  https://stackoverflow.com/questions/27830523/s...   \n",
       "2        27829300    -2  https://stackoverflow.com/questions/27829300/h...   \n",
       "3        27829228     2  https://stackoverflow.com/questions/27829228/m...   \n",
       "4        27826952     1  https://stackoverflow.com/questions/27826952/p...   \n",
       "...           ...   ...                                                ...   \n",
       "19617    59493158     1  https://stackoverflow.com/questions/59493158/h...   \n",
       "19618    59491122     2  https://stackoverflow.com/questions/59491122/p...   \n",
       "19619    59491078     2  https://stackoverflow.com/questions/59491078/h...   \n",
       "19620    59485244     0  https://stackoverflow.com/questions/59485244/p...   \n",
       "19621    59484393     0  https://stackoverflow.com/questions/59484393/s...   \n",
       "\n",
       "      owner/user_id owner/reputation  \n",
       "0           2118804              759  \n",
       "1           4259445              101  \n",
       "2            183123             4014  \n",
       "3              None             None  \n",
       "4           2482575              235  \n",
       "...             ...              ...  \n",
       "19617        124486            63855  \n",
       "19618      11143545              609  \n",
       "19619       4157131              181  \n",
       "19620       2322313                1  \n",
       "19621       6124824             2402  \n",
       "\n",
       "[19622 rows x 10 columns]"
      ],
      "text/html": "<div>\n<style scoped>\n    .dataframe tbody tr th:only-of-type {\n        vertical-align: middle;\n    }\n\n    .dataframe tbody tr th {\n        vertical-align: top;\n    }\n\n    .dataframe thead th {\n        text-align: right;\n    }\n</style>\n<table border=\"1\" class=\"dataframe\">\n  <thead>\n    <tr style=\"text-align: right;\">\n      <th></th>\n      <th>language</th>\n      <th>body</th>\n      <th>view_count</th>\n      <th>title</th>\n      <th>creation_date</th>\n      <th>question_id</th>\n      <th>score</th>\n      <th>link</th>\n      <th>owner/user_id</th>\n      <th>owner/reputation</th>\n    </tr>\n  </thead>\n  <tbody>\n    <tr>\n      <th>0</th>\n      <td>perl</td>\n      <td>&lt;p&gt;I have got an XML to parse. Though I am abl...</td>\n      <td>169</td>\n      <td>How do we separate values fetched from findval...</td>\n      <td>1420673706</td>\n      <td>27830619</td>\n      <td>1</td>\n      <td>https://stackoverflow.com/questions/27830619/h...</td>\n      <td>2118804</td>\n      <td>759</td>\n    </tr>\n    <tr>\n      <th>1</th>\n      <td>perl</td>\n      <td>&lt;p&gt;I'm having trouble with this problem, this ...</td>\n      <td>63</td>\n      <td>segmentation fault in gtk2 and thread</td>\n      <td>1420673184</td>\n      <td>27830523</td>\n      <td>1</td>\n      <td>https://stackoverflow.com/questions/27830523/s...</td>\n      <td>4259445</td>\n      <td>101</td>\n    </tr>\n    <tr>\n      <th>2</th>\n      <td>perl</td>\n      <td>&lt;p&gt;I have a multiline string as input. For exa...</td>\n      <td>80</td>\n      <td>How do I create a set from a multi-line string...</td>\n      <td>1420667612</td>\n      <td>27829300</td>\n      <td>-2</td>\n      <td>https://stackoverflow.com/questions/27829300/h...</td>\n      <td>183123</td>\n      <td>4014</td>\n    </tr>\n    <tr>\n      <th>3</th>\n      <td>perl</td>\n      <td>&lt;p&gt;Ok, I already fixed, anyway I don't know wh...</td>\n      <td>238</td>\n      <td>MySQL &amp;quot;command out of sync&amp;quot;</td>\n      <td>1420667326</td>\n      <td>27829228</td>\n      <td>2</td>\n      <td>https://stackoverflow.com/questions/27829228/m...</td>\n      <td>None</td>\n      <td>None</td>\n    </tr>\n    <tr>\n      <th>4</th>\n      <td>perl</td>\n      <td>&lt;p&gt;I have some files I am processing, and I wo...</td>\n      <td>1194</td>\n      <td>perl regex to remove dashes</td>\n      <td>1420658199</td>\n      <td>27826952</td>\n      <td>1</td>\n      <td>https://stackoverflow.com/questions/27826952/p...</td>\n      <td>2482575</td>\n      <td>235</td>\n    </tr>\n    <tr>\n      <th>...</th>\n      <td>...</td>\n      <td>...</td>\n      <td>...</td>\n      <td>...</td>\n      <td>...</td>\n      <td>...</td>\n      <td>...</td>\n      <td>...</td>\n      <td>...</td>\n      <td>...</td>\n    </tr>\n    <tr>\n      <th>19617</th>\n      <td>perl</td>\n      <td>&lt;p&gt;I have a subroutine, &lt;/p&gt;\\n\\n&lt;pre&gt;&lt;code&gt;use...</td>\n      <td>72</td>\n      <td>How can I set a default file handle in a perl ...</td>\n      <td>1577392015</td>\n      <td>59493158</td>\n      <td>1</td>\n      <td>https://stackoverflow.com/questions/59493158/h...</td>\n      <td>124486</td>\n      <td>63855</td>\n    </tr>\n    <tr>\n      <th>19618</th>\n      <td>perl</td>\n      <td>&lt;p&gt;I have really no idea, why this is wrong:&lt;/...</td>\n      <td>107</td>\n      <td>Perl: Hash slices cannot be lexically scoped</td>\n      <td>1577378644</td>\n      <td>59491122</td>\n      <td>2</td>\n      <td>https://stackoverflow.com/questions/59491122/p...</td>\n      <td>11143545</td>\n      <td>609</td>\n    </tr>\n    <tr>\n      <th>19619</th>\n      <td>perl</td>\n      <td>&lt;p&gt;I have a single directory with 3 million sm...</td>\n      <td>205</td>\n      <td>How can I efficiently check if a file exists i...</td>\n      <td>1577378409</td>\n      <td>59491078</td>\n      <td>2</td>\n      <td>https://stackoverflow.com/questions/59491078/h...</td>\n      <td>4157131</td>\n      <td>181</td>\n    </tr>\n    <tr>\n      <th>19620</th>\n      <td>perl</td>\n      <td>&lt;p&gt;I have around 100 different scripts and com...</td>\n      <td>73</td>\n      <td>Parsing the Perl script command(s) and get the...</td>\n      <td>1577345230</td>\n      <td>59485244</td>\n      <td>0</td>\n      <td>https://stackoverflow.com/questions/59485244/p...</td>\n      <td>2322313</td>\n      <td>1</td>\n    </tr>\n    <tr>\n      <th>19621</th>\n      <td>perl</td>\n      <td>&lt;p&gt;I have file (node_list.txt) which is having...</td>\n      <td>121</td>\n      <td>Split file by equal parts based on count</td>\n      <td>1577340010</td>\n      <td>59484393</td>\n      <td>0</td>\n      <td>https://stackoverflow.com/questions/59484393/s...</td>\n      <td>6124824</td>\n      <td>2402</td>\n    </tr>\n  </tbody>\n</table>\n<p>19622 rows × 10 columns</p>\n</div>"
     },
     "metadata": {},
     "execution_count": 3
    }
   ],
   "source": [
    "dart_questions"
   ]
  },
  {
   "cell_type": "code",
   "execution_count": 4,
   "metadata": {},
   "outputs": [
    {
     "output_type": "execute_result",
     "data": {
      "text/plain": [
       "      language question_id answer_id  \\\n",
       "0         perl    27830619  27837626   \n",
       "1         perl    27830523  27833258   \n",
       "2         perl    27829300  27829362   \n",
       "3         perl    27829300  27829916   \n",
       "4         perl    27829228  27876350   \n",
       "...        ...         ...       ...   \n",
       "30967     perl    59491122  59547483   \n",
       "30968     perl    59485244  59485380   \n",
       "30969     perl    59484393  59485039   \n",
       "30970     perl    59484393  59485470   \n",
       "30971     perl    59484393  59485816   \n",
       "\n",
       "                                                    body creation_date score  \\\n",
       "0      <p>If you try this code(note the last line in ...    1420712125     1   \n",
       "1      <p>Try adding </p>\\n\\n<pre><code>use Gtk2 qw/-...    1420693227     0   \n",
       "2      <p><a href=\"http://perldoc.perl.org/functions/...    1420667846     1   \n",
       "3      <p>@toolic is right; <a href=\"http://perldoc.p...    1420670188     0   \n",
       "4      <p>ikegami's answer is correct.</p>\\n\\n<p>You ...    1420893908     0   \n",
       "...                                                  ...           ...   ...   \n",
       "30967  <p>This is just a big WAG at what the OP is tr...    1577817144     0   \n",
       "30968  <p>For commands similar to the specific shell ...    1577346035     3   \n",
       "30969  <p>Perhaps following code comply with your req...    1577344082    -1   \n",
       "30970  <pre><code>my $num_buckets = 3;\\n\\nmy @lines =...    1577346704     3   \n",
       "30971  <p>This splits lines so that each file except ...    1577349067     4   \n",
       "\n",
       "      owner/user_id owner/reputation  \n",
       "0            926143            41846  \n",
       "1            257635            19192  \n",
       "2            197758            45481  \n",
       "3            351430               86  \n",
       "4           1471077             1722  \n",
       "...             ...              ...  \n",
       "30967         59135            25590  \n",
       "30968        589924           320771  \n",
       "30969      12313309             4234  \n",
       "30970        589924           320771  \n",
       "30971       4653379            53041  \n",
       "\n",
       "[30972 rows x 8 columns]"
      ],
      "text/html": "<div>\n<style scoped>\n    .dataframe tbody tr th:only-of-type {\n        vertical-align: middle;\n    }\n\n    .dataframe tbody tr th {\n        vertical-align: top;\n    }\n\n    .dataframe thead th {\n        text-align: right;\n    }\n</style>\n<table border=\"1\" class=\"dataframe\">\n  <thead>\n    <tr style=\"text-align: right;\">\n      <th></th>\n      <th>language</th>\n      <th>question_id</th>\n      <th>answer_id</th>\n      <th>body</th>\n      <th>creation_date</th>\n      <th>score</th>\n      <th>owner/user_id</th>\n      <th>owner/reputation</th>\n    </tr>\n  </thead>\n  <tbody>\n    <tr>\n      <th>0</th>\n      <td>perl</td>\n      <td>27830619</td>\n      <td>27837626</td>\n      <td>&lt;p&gt;If you try this code(note the last line in ...</td>\n      <td>1420712125</td>\n      <td>1</td>\n      <td>926143</td>\n      <td>41846</td>\n    </tr>\n    <tr>\n      <th>1</th>\n      <td>perl</td>\n      <td>27830523</td>\n      <td>27833258</td>\n      <td>&lt;p&gt;Try adding &lt;/p&gt;\\n\\n&lt;pre&gt;&lt;code&gt;use Gtk2 qw/-...</td>\n      <td>1420693227</td>\n      <td>0</td>\n      <td>257635</td>\n      <td>19192</td>\n    </tr>\n    <tr>\n      <th>2</th>\n      <td>perl</td>\n      <td>27829300</td>\n      <td>27829362</td>\n      <td>&lt;p&gt;&lt;a href=\"http://perldoc.perl.org/functions/...</td>\n      <td>1420667846</td>\n      <td>1</td>\n      <td>197758</td>\n      <td>45481</td>\n    </tr>\n    <tr>\n      <th>3</th>\n      <td>perl</td>\n      <td>27829300</td>\n      <td>27829916</td>\n      <td>&lt;p&gt;@toolic is right; &lt;a href=\"http://perldoc.p...</td>\n      <td>1420670188</td>\n      <td>0</td>\n      <td>351430</td>\n      <td>86</td>\n    </tr>\n    <tr>\n      <th>4</th>\n      <td>perl</td>\n      <td>27829228</td>\n      <td>27876350</td>\n      <td>&lt;p&gt;ikegami's answer is correct.&lt;/p&gt;\\n\\n&lt;p&gt;You ...</td>\n      <td>1420893908</td>\n      <td>0</td>\n      <td>1471077</td>\n      <td>1722</td>\n    </tr>\n    <tr>\n      <th>...</th>\n      <td>...</td>\n      <td>...</td>\n      <td>...</td>\n      <td>...</td>\n      <td>...</td>\n      <td>...</td>\n      <td>...</td>\n      <td>...</td>\n    </tr>\n    <tr>\n      <th>30967</th>\n      <td>perl</td>\n      <td>59491122</td>\n      <td>59547483</td>\n      <td>&lt;p&gt;This is just a big WAG at what the OP is tr...</td>\n      <td>1577817144</td>\n      <td>0</td>\n      <td>59135</td>\n      <td>25590</td>\n    </tr>\n    <tr>\n      <th>30968</th>\n      <td>perl</td>\n      <td>59485244</td>\n      <td>59485380</td>\n      <td>&lt;p&gt;For commands similar to the specific shell ...</td>\n      <td>1577346035</td>\n      <td>3</td>\n      <td>589924</td>\n      <td>320771</td>\n    </tr>\n    <tr>\n      <th>30969</th>\n      <td>perl</td>\n      <td>59484393</td>\n      <td>59485039</td>\n      <td>&lt;p&gt;Perhaps following code comply with your req...</td>\n      <td>1577344082</td>\n      <td>-1</td>\n      <td>12313309</td>\n      <td>4234</td>\n    </tr>\n    <tr>\n      <th>30970</th>\n      <td>perl</td>\n      <td>59484393</td>\n      <td>59485470</td>\n      <td>&lt;pre&gt;&lt;code&gt;my $num_buckets = 3;\\n\\nmy @lines =...</td>\n      <td>1577346704</td>\n      <td>3</td>\n      <td>589924</td>\n      <td>320771</td>\n    </tr>\n    <tr>\n      <th>30971</th>\n      <td>perl</td>\n      <td>59484393</td>\n      <td>59485816</td>\n      <td>&lt;p&gt;This splits lines so that each file except ...</td>\n      <td>1577349067</td>\n      <td>4</td>\n      <td>4653379</td>\n      <td>53041</td>\n    </tr>\n  </tbody>\n</table>\n<p>30972 rows × 8 columns</p>\n</div>"
     },
     "metadata": {},
     "execution_count": 4
    }
   ],
   "source": [
    "dart_answers"
   ]
  },
  {
   "cell_type": "code",
   "execution_count": 10,
   "metadata": {},
   "outputs": [
    {
     "output_type": "execute_result",
     "data": {
      "text/plain": [
       "       language question_id  \\\n",
       "0          perl    27830619   \n",
       "1          perl    27830619   \n",
       "2          perl    27830523   \n",
       "3          perl    27830523   \n",
       "4          perl    27830523   \n",
       "...         ...         ...   \n",
       "109953     perl    59484393   \n",
       "109954     perl    59484393   \n",
       "109955     perl    59484393   \n",
       "109956     perl    59484393   \n",
       "109957     perl    59484393   \n",
       "\n",
       "                                                     body creation_date score  \\\n",
       "0       Looks like you&#39;re not getting back a list,...    1420674359     0   \n",
       "1        @JimDavis, Hi Jim. what should be the fix to it?    1420674784     0   \n",
       "2       Try adding <code>use Gtk2 qw&#47;-init -thread...    1420688153     1   \n",
       "3                Thanks buddy it worked out unexpectedly!    1420691937     0   \n",
       "4       You are welcome, I&#39;m adding it as an answe...    1420693212     0   \n",
       "...                                                   ...           ...   ...   \n",
       "109953  @zdim, Or put differently, if there were 5 hos...    1577350218     0   \n",
       "109954  @ikegami Yes, an even better example.  While t...    1577350398     0   \n",
       "109955  @zdim : As per the calculation if there are 10...    1577350622     0   \n",
       "109956  vinodk89, I think @zdim is interested in knowi...    1577350903     0   \n",
       "109957  &quot;<i>4-3-3 is good to go</i>&quot; -- than...    1577352589     0   \n",
       "\n",
       "       owner/user_id owner/reputation answer_id  \n",
       "0             145364             4598       NaN  \n",
       "1            2118804              759       NaN  \n",
       "2             257635            19192       NaN  \n",
       "3            4259445              101       NaN  \n",
       "4             257635            19192       NaN  \n",
       "...              ...              ...       ...  \n",
       "109953        589924           320771       NaN  \n",
       "109954       4653379            53041       NaN  \n",
       "109955       6124824             2402       NaN  \n",
       "109956        589924           320771       NaN  \n",
       "109957       4653379            53041       NaN  \n",
       "\n",
       "[109958 rows x 8 columns]"
      ],
      "text/html": "<div>\n<style scoped>\n    .dataframe tbody tr th:only-of-type {\n        vertical-align: middle;\n    }\n\n    .dataframe tbody tr th {\n        vertical-align: top;\n    }\n\n    .dataframe thead th {\n        text-align: right;\n    }\n</style>\n<table border=\"1\" class=\"dataframe\">\n  <thead>\n    <tr style=\"text-align: right;\">\n      <th></th>\n      <th>language</th>\n      <th>question_id</th>\n      <th>body</th>\n      <th>creation_date</th>\n      <th>score</th>\n      <th>owner/user_id</th>\n      <th>owner/reputation</th>\n      <th>answer_id</th>\n    </tr>\n  </thead>\n  <tbody>\n    <tr>\n      <th>0</th>\n      <td>perl</td>\n      <td>27830619</td>\n      <td>Looks like you&amp;#39;re not getting back a list,...</td>\n      <td>1420674359</td>\n      <td>0</td>\n      <td>145364</td>\n      <td>4598</td>\n      <td>NaN</td>\n    </tr>\n    <tr>\n      <th>1</th>\n      <td>perl</td>\n      <td>27830619</td>\n      <td>@JimDavis, Hi Jim. what should be the fix to it?</td>\n      <td>1420674784</td>\n      <td>0</td>\n      <td>2118804</td>\n      <td>759</td>\n      <td>NaN</td>\n    </tr>\n    <tr>\n      <th>2</th>\n      <td>perl</td>\n      <td>27830523</td>\n      <td>Try adding &lt;code&gt;use Gtk2 qw&amp;#47;-init -thread...</td>\n      <td>1420688153</td>\n      <td>1</td>\n      <td>257635</td>\n      <td>19192</td>\n      <td>NaN</td>\n    </tr>\n    <tr>\n      <th>3</th>\n      <td>perl</td>\n      <td>27830523</td>\n      <td>Thanks buddy it worked out unexpectedly!</td>\n      <td>1420691937</td>\n      <td>0</td>\n      <td>4259445</td>\n      <td>101</td>\n      <td>NaN</td>\n    </tr>\n    <tr>\n      <th>4</th>\n      <td>perl</td>\n      <td>27830523</td>\n      <td>You are welcome, I&amp;#39;m adding it as an answe...</td>\n      <td>1420693212</td>\n      <td>0</td>\n      <td>257635</td>\n      <td>19192</td>\n      <td>NaN</td>\n    </tr>\n    <tr>\n      <th>...</th>\n      <td>...</td>\n      <td>...</td>\n      <td>...</td>\n      <td>...</td>\n      <td>...</td>\n      <td>...</td>\n      <td>...</td>\n      <td>...</td>\n    </tr>\n    <tr>\n      <th>109953</th>\n      <td>perl</td>\n      <td>59484393</td>\n      <td>@zdim, Or put differently, if there were 5 hos...</td>\n      <td>1577350218</td>\n      <td>0</td>\n      <td>589924</td>\n      <td>320771</td>\n      <td>NaN</td>\n    </tr>\n    <tr>\n      <th>109954</th>\n      <td>perl</td>\n      <td>59484393</td>\n      <td>@ikegami Yes, an even better example.  While t...</td>\n      <td>1577350398</td>\n      <td>0</td>\n      <td>4653379</td>\n      <td>53041</td>\n      <td>NaN</td>\n    </tr>\n    <tr>\n      <th>109955</th>\n      <td>perl</td>\n      <td>59484393</td>\n      <td>@zdim : As per the calculation if there are 10...</td>\n      <td>1577350622</td>\n      <td>0</td>\n      <td>6124824</td>\n      <td>2402</td>\n      <td>NaN</td>\n    </tr>\n    <tr>\n      <th>109956</th>\n      <td>perl</td>\n      <td>59484393</td>\n      <td>vinodk89, I think @zdim is interested in knowi...</td>\n      <td>1577350903</td>\n      <td>0</td>\n      <td>589924</td>\n      <td>320771</td>\n      <td>NaN</td>\n    </tr>\n    <tr>\n      <th>109957</th>\n      <td>perl</td>\n      <td>59484393</td>\n      <td>&amp;quot;&lt;i&gt;4-3-3 is good to go&lt;/i&gt;&amp;quot; -- than...</td>\n      <td>1577352589</td>\n      <td>0</td>\n      <td>4653379</td>\n      <td>53041</td>\n      <td>NaN</td>\n    </tr>\n  </tbody>\n</table>\n<p>109958 rows × 8 columns</p>\n</div>"
     },
     "metadata": {},
     "execution_count": 10
    }
   ],
   "source": [
    "dart_comments"
   ]
  }
 ]
}