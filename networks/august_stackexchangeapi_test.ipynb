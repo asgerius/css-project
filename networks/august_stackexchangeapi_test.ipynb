{
 "metadata": {
  "language_info": {
   "codemirror_mode": {
    "name": "ipython",
    "version": 3
   },
   "file_extension": ".py",
   "mimetype": "text/x-python",
   "name": "python",
   "nbconvert_exporter": "python",
   "pygments_lexer": "ipython3",
   "version": "3.8.5-final"
  },
  "orig_nbformat": 2,
  "kernelspec": {
   "name": "python38564bit3146a4cc6db04886890e25bf876d3a33",
   "display_name": "Python 3.8.5 64-bit",
   "language": "python"
  }
 },
 "nbformat": 4,
 "nbformat_minor": 2,
 "cells": [
  {
   "cell_type": "code",
   "execution_count": 2,
   "metadata": {},
   "outputs": [
    {
     "output_type": "stream",
     "name": "stdout",
     "text": [
      "Hello World\n"
     ]
    }
   ],
   "source": [
    "print(\"Hello World\")"
   ]
  },
  {
   "cell_type": "code",
   "execution_count": 1,
   "metadata": {},
   "outputs": [],
   "source": [
    "## Imports\n",
    "import numpy as np\n",
    "from stackapi import StackAPI\n",
    "import pandas as pd"
   ]
  },
  {
   "cell_type": "code",
   "execution_count": 5,
   "metadata": {},
   "outputs": [],
   "source": [
    "SITE = StackAPI('stackoverflow')\n",
    "comments = SITE.fetch('comments')"
   ]
  },
  {
   "cell_type": "code",
   "execution_count": 58,
   "metadata": {},
   "outputs": [],
   "source": [
    "python_questions = SITE.fetch(endpoint='questions', tagged='python', sort='votes', min=100)['items']\n",
    "# python_questions"
   ]
  },
  {
   "cell_type": "code",
   "execution_count": 66,
   "metadata": {},
   "outputs": [
    {
     "output_type": "execute_result",
     "data": {
      "text/plain": [
       "369"
      ]
     },
     "metadata": {},
     "execution_count": 66
    }
   ],
   "source": [
    "python_questions_answered = list(question for question in python_questions if question['answer_count'] > 10) #question['is_answered'] == True)\n",
    "python_questions_answered\n",
    "len(python_questions_answered)"
   ]
  },
  {
   "cell_type": "code",
   "execution_count": 67,
   "metadata": {},
   "outputs": [
    {
     "output_type": "execute_result",
     "data": {
      "text/plain": [
       "184"
      ]
     },
     "metadata": {},
     "execution_count": 67
    }
   ],
   "source": [
    "python_questions_popular = list(question for question in python_questions if question['score'] > 1000)\n",
    "python_questions_popular\n",
    "len(python_questions_popular)"
   ]
  },
  {
   "cell_type": "code",
   "execution_count": 77,
   "metadata": {
    "tags": []
   },
   "outputs": [
    {
     "output_type": "stream",
     "name": "stdout",
     "text": [
      "124879\n89091\n89091\n510702\n66787\n103898\n53901\n90298\n265535\n40365\n119567\n69706\n234946\n39879\n42843\n36199\n41624\n131487\n168275\n131487\n205232\n96221\n99383\n43950\n131487\n71231\n58458\n75085\n42864\n124561\n58258\n33553\n45224\n66388\n28139\n95137\n27520\n10454\n26858\n213492\n25037\n49398\n29875\n27085\n27156\n24505\n58005\n213937\n33070\n174906\n265535\n23249\n22693\n21723\n118\n29705\n35818\n510702\n33692\n58458\n20413\n7245\n30299\n168275\n121729\n"
     ]
    },
    {
     "output_type": "error",
     "ename": "KeyError",
     "evalue": "'reputation'",
     "traceback": [
      "\u001b[0;31m---------------------------------------------------------------------------\u001b[0m",
      "\u001b[0;31mKeyError\u001b[0m                                  Traceback (most recent call last)",
      "\u001b[0;32m<ipython-input-77-e7910d5ac11e>\u001b[0m in \u001b[0;36m<module>\u001b[0;34m\u001b[0m\n\u001b[1;32m      1\u001b[0m \u001b[0;32mfor\u001b[0m \u001b[0mquestion\u001b[0m \u001b[0;32min\u001b[0m \u001b[0mpython_questions\u001b[0m\u001b[0;34m:\u001b[0m\u001b[0;34m\u001b[0m\u001b[0;34m\u001b[0m\u001b[0m\n\u001b[0;32m----> 2\u001b[0;31m     \u001b[0mprint\u001b[0m\u001b[0;34m(\u001b[0m\u001b[0mquestion\u001b[0m\u001b[0;34m[\u001b[0m\u001b[0;34m'owner'\u001b[0m\u001b[0;34m]\u001b[0m\u001b[0;34m[\u001b[0m\u001b[0;34m'reputation'\u001b[0m\u001b[0;34m]\u001b[0m\u001b[0;34m)\u001b[0m\u001b[0;34m\u001b[0m\u001b[0;34m\u001b[0m\u001b[0m\n\u001b[0m",
      "\u001b[0;31mKeyError\u001b[0m: 'reputation'"
     ]
    }
   ],
   "source": [
    "for question in python_questions:\n",
    "    print(question['owner']['reputation'])"
   ]
  },
  {
   "cell_type": "code",
   "execution_count": 78,
   "metadata": {},
   "outputs": [
    {
     "output_type": "error",
     "ename": "KeyError",
     "evalue": "'reputation'",
     "traceback": [
      "\u001b[0;31m---------------------------------------------------------------------------\u001b[0m",
      "\u001b[0;31mKeyError\u001b[0m                                  Traceback (most recent call last)",
      "\u001b[0;32m<ipython-input-78-e5e85e817621>\u001b[0m in \u001b[0;36m<module>\u001b[0;34m\u001b[0m\n\u001b[0;32m----> 1\u001b[0;31m \u001b[0mpython_questions_userrep\u001b[0m \u001b[0;34m=\u001b[0m \u001b[0mlist\u001b[0m\u001b[0;34m(\u001b[0m\u001b[0mquestion\u001b[0m \u001b[0;32mfor\u001b[0m \u001b[0mquestion\u001b[0m \u001b[0;32min\u001b[0m \u001b[0mpython_questions\u001b[0m \u001b[0;32mif\u001b[0m \u001b[0mquestion\u001b[0m\u001b[0;34m[\u001b[0m\u001b[0;34m'owner'\u001b[0m\u001b[0;34m]\u001b[0m\u001b[0;34m[\u001b[0m\u001b[0;34m'reputation'\u001b[0m\u001b[0;34m]\u001b[0m \u001b[0;34m>\u001b[0m \u001b[0;36m1000\u001b[0m\u001b[0;34m)\u001b[0m\u001b[0;34m\u001b[0m\u001b[0;34m\u001b[0m\u001b[0m\n\u001b[0m\u001b[1;32m      2\u001b[0m \u001b[0mpython_questions_userrep\u001b[0m\u001b[0;34m\u001b[0m\u001b[0;34m\u001b[0m\u001b[0m\n\u001b[1;32m      3\u001b[0m \u001b[0mlen\u001b[0m\u001b[0;34m(\u001b[0m\u001b[0mpython_questions_userrep\u001b[0m\u001b[0;34m)\u001b[0m\u001b[0;34m\u001b[0m\u001b[0;34m\u001b[0m\u001b[0m\n",
      "\u001b[0;32m<ipython-input-78-e5e85e817621>\u001b[0m in \u001b[0;36m<genexpr>\u001b[0;34m(.0)\u001b[0m\n\u001b[0;32m----> 1\u001b[0;31m \u001b[0mpython_questions_userrep\u001b[0m \u001b[0;34m=\u001b[0m \u001b[0mlist\u001b[0m\u001b[0;34m(\u001b[0m\u001b[0mquestion\u001b[0m \u001b[0;32mfor\u001b[0m \u001b[0mquestion\u001b[0m \u001b[0;32min\u001b[0m \u001b[0mpython_questions\u001b[0m \u001b[0;32mif\u001b[0m \u001b[0mquestion\u001b[0m\u001b[0;34m[\u001b[0m\u001b[0;34m'owner'\u001b[0m\u001b[0;34m]\u001b[0m\u001b[0;34m[\u001b[0m\u001b[0;34m'reputation'\u001b[0m\u001b[0;34m]\u001b[0m \u001b[0;34m>\u001b[0m \u001b[0;36m1000\u001b[0m\u001b[0;34m)\u001b[0m\u001b[0;34m\u001b[0m\u001b[0;34m\u001b[0m\u001b[0m\n\u001b[0m\u001b[1;32m      2\u001b[0m \u001b[0mpython_questions_userrep\u001b[0m\u001b[0;34m\u001b[0m\u001b[0;34m\u001b[0m\u001b[0m\n\u001b[1;32m      3\u001b[0m \u001b[0mlen\u001b[0m\u001b[0;34m(\u001b[0m\u001b[0mpython_questions_userrep\u001b[0m\u001b[0;34m)\u001b[0m\u001b[0;34m\u001b[0m\u001b[0;34m\u001b[0m\u001b[0m\n",
      "\u001b[0;31mKeyError\u001b[0m: 'reputation'"
     ]
    }
   ],
   "source": [
    "python_questions_userrep = list(question for question in python_questions if question['owner']['reputation'] > 1000)\n",
    "python_questions_userrep\n",
    "len(python_questions_userrep)"
   ]
  },
  {
   "cell_type": "code",
   "execution_count": 73,
   "metadata": {},
   "outputs": [
    {
     "output_type": "error",
     "ename": "TypeError",
     "evalue": "list indices must be integers or slices, not str",
     "traceback": [
      "\u001b[0;31m---------------------------------------------------------------------------\u001b[0m",
      "\u001b[0;31mTypeError\u001b[0m                                 Traceback (most recent call last)",
      "\u001b[0;32m<ipython-input-73-388ec8cb390d>\u001b[0m in \u001b[0;36m<module>\u001b[0;34m\u001b[0m\n\u001b[0;32m----> 1\u001b[0;31m \u001b[0mprint\u001b[0m\u001b[0;34m(\u001b[0m\u001b[0mpython_questions\u001b[0m\u001b[0;34m[\u001b[0m\u001b[0;34m'owner'\u001b[0m\u001b[0;34m]\u001b[0m\u001b[0;34m[\u001b[0m\u001b[0;34m'user_id'\u001b[0m\u001b[0;34m]\u001b[0m \u001b[0;34m==\u001b[0m \u001b[0;34m'Kevin Griffin'\u001b[0m\u001b[0;34m)\u001b[0m\u001b[0;34m\u001b[0m\u001b[0;34m\u001b[0m\u001b[0m\n\u001b[0m",
      "\u001b[0;31mTypeError\u001b[0m: list indices must be integers or slices, not str"
     ]
    }
   ],
   "source": [
    "print(python_questions['owner']['user_id'] == 'Kevin Griffin')"
   ]
  },
  {
   "cell_type": "code",
   "execution_count": 14,
   "metadata": {},
   "outputs": [
    {
     "output_type": "execute_result",
     "data": {
      "text/plain": [
       "      language creation_date  \\\n",
       "0       python    1263512427   \n",
       "1       python    1263512111   \n",
       "2       python    1263511297   \n",
       "3       python    1263506727   \n",
       "4       python    1263506615   \n",
       "...        ...           ...   \n",
       "26095   python    1577815329   \n",
       "26096   python    1577814948   \n",
       "26097   python    1577814800   \n",
       "26098   python    1577814764   \n",
       "26099   python    1577814607   \n",
       "\n",
       "                                                    body  \\\n",
       "0      <p>This is the best algorithm I could come up....   \n",
       "1      <pre><code>sentence = \"The quick brown fox jum...   \n",
       "2      <p>I want to <strong>build something similar t...   \n",
       "3      <p>I am trying to scrap some data from a websi...   \n",
       "4      <p>So I'm aware of the big ammount of general-...   \n",
       "...                                                  ...   \n",
       "26095  <p>I'm coding a script that uses a defined fun...   \n",
       "26096  <p>I have a bunch of dataframes with rows of t...   \n",
       "26097  <p>I'm using ModelForms to populate two tables...   \n",
       "26098  <p>Inputs to relay must be a 8 bit number (som...   \n",
       "26099  <p>I'm practicing the alternative way of defin...   \n",
       "\n",
       "                                                   title owner/user_id  \\\n",
       "0                 Fastest way to list all primes below N        230636   \n",
       "1                  Understanding .get() method in Python        172637   \n",
       "2                Music Recognition and Signal Processing         89771   \n",
       "3         Error in using Python/mechanize select_form()?        221342   \n",
       "4      &quot;Real&quot; and non-embedded use of Ruby,...        251109   \n",
       "...                                                  ...           ...   \n",
       "26095                Using a scheduled function variable      12628161   \n",
       "26096  Weird error when concatenating Series data usi...      12633388   \n",
       "26097  Django ModelForms - How to set default values ...       2333312   \n",
       "26098  How to switch on/off relay using serial port o...      12365706   \n",
       "26099  How to use FunctionType to define a function t...       7015406   \n",
       "\n",
       "      view_count                                               link  \\\n",
       "0         226771  https://stackoverflow.com/questions/2068372/fa...   \n",
       "1         128380  https://stackoverflow.com/questions/2068349/un...   \n",
       "2           9154  https://stackoverflow.com/questions/2068286/mu...   \n",
       "3           3430  https://stackoverflow.com/questions/2067915/er...   \n",
       "4            453  https://stackoverflow.com/questions/2067907/re...   \n",
       "...          ...                                                ...   \n",
       "26095         28  https://stackoverflow.com/questions/59547252/u...   \n",
       "26096         49  https://stackoverflow.com/questions/59547187/w...   \n",
       "26097        101  https://stackoverflow.com/questions/59547167/d...   \n",
       "26098         36  https://stackoverflow.com/questions/59547160/h...   \n",
       "26099         57  https://stackoverflow.com/questions/59547132/h...   \n",
       "\n",
       "      question_id owner/reputation score  \n",
       "0         2068372            26785   379  \n",
       "1         2068349            57910    72  \n",
       "2         2068286           140708    14  \n",
       "3         2067915             8272     2  \n",
       "4         2067907               41     3  \n",
       "...           ...              ...   ...  \n",
       "26095    59547252               15     0  \n",
       "26096    59547187                1     0  \n",
       "26097    59547167               71     0  \n",
       "26098    59547160               11     1  \n",
       "26099    59547132              207     1  \n",
       "\n",
       "[26100 rows x 10 columns]"
      ],
      "text/html": "<div>\n<style scoped>\n    .dataframe tbody tr th:only-of-type {\n        vertical-align: middle;\n    }\n\n    .dataframe tbody tr th {\n        vertical-align: top;\n    }\n\n    .dataframe thead th {\n        text-align: right;\n    }\n</style>\n<table border=\"1\" class=\"dataframe\">\n  <thead>\n    <tr style=\"text-align: right;\">\n      <th></th>\n      <th>language</th>\n      <th>creation_date</th>\n      <th>body</th>\n      <th>title</th>\n      <th>owner/user_id</th>\n      <th>view_count</th>\n      <th>link</th>\n      <th>question_id</th>\n      <th>owner/reputation</th>\n      <th>score</th>\n    </tr>\n  </thead>\n  <tbody>\n    <tr>\n      <th>0</th>\n      <td>python</td>\n      <td>1263512427</td>\n      <td>&lt;p&gt;This is the best algorithm I could come up....</td>\n      <td>Fastest way to list all primes below N</td>\n      <td>230636</td>\n      <td>226771</td>\n      <td>https://stackoverflow.com/questions/2068372/fa...</td>\n      <td>2068372</td>\n      <td>26785</td>\n      <td>379</td>\n    </tr>\n    <tr>\n      <th>1</th>\n      <td>python</td>\n      <td>1263512111</td>\n      <td>&lt;pre&gt;&lt;code&gt;sentence = \"The quick brown fox jum...</td>\n      <td>Understanding .get() method in Python</td>\n      <td>172637</td>\n      <td>128380</td>\n      <td>https://stackoverflow.com/questions/2068349/un...</td>\n      <td>2068349</td>\n      <td>57910</td>\n      <td>72</td>\n    </tr>\n    <tr>\n      <th>2</th>\n      <td>python</td>\n      <td>1263511297</td>\n      <td>&lt;p&gt;I want to &lt;strong&gt;build something similar t...</td>\n      <td>Music Recognition and Signal Processing</td>\n      <td>89771</td>\n      <td>9154</td>\n      <td>https://stackoverflow.com/questions/2068286/mu...</td>\n      <td>2068286</td>\n      <td>140708</td>\n      <td>14</td>\n    </tr>\n    <tr>\n      <th>3</th>\n      <td>python</td>\n      <td>1263506727</td>\n      <td>&lt;p&gt;I am trying to scrap some data from a websi...</td>\n      <td>Error in using Python/mechanize select_form()?</td>\n      <td>221342</td>\n      <td>3430</td>\n      <td>https://stackoverflow.com/questions/2067915/er...</td>\n      <td>2067915</td>\n      <td>8272</td>\n      <td>2</td>\n    </tr>\n    <tr>\n      <th>4</th>\n      <td>python</td>\n      <td>1263506615</td>\n      <td>&lt;p&gt;So I'm aware of the big ammount of general-...</td>\n      <td>&amp;quot;Real&amp;quot; and non-embedded use of Ruby,...</td>\n      <td>251109</td>\n      <td>453</td>\n      <td>https://stackoverflow.com/questions/2067907/re...</td>\n      <td>2067907</td>\n      <td>41</td>\n      <td>3</td>\n    </tr>\n    <tr>\n      <th>...</th>\n      <td>...</td>\n      <td>...</td>\n      <td>...</td>\n      <td>...</td>\n      <td>...</td>\n      <td>...</td>\n      <td>...</td>\n      <td>...</td>\n      <td>...</td>\n      <td>...</td>\n    </tr>\n    <tr>\n      <th>26095</th>\n      <td>python</td>\n      <td>1577815329</td>\n      <td>&lt;p&gt;I'm coding a script that uses a defined fun...</td>\n      <td>Using a scheduled function variable</td>\n      <td>12628161</td>\n      <td>28</td>\n      <td>https://stackoverflow.com/questions/59547252/u...</td>\n      <td>59547252</td>\n      <td>15</td>\n      <td>0</td>\n    </tr>\n    <tr>\n      <th>26096</th>\n      <td>python</td>\n      <td>1577814948</td>\n      <td>&lt;p&gt;I have a bunch of dataframes with rows of t...</td>\n      <td>Weird error when concatenating Series data usi...</td>\n      <td>12633388</td>\n      <td>49</td>\n      <td>https://stackoverflow.com/questions/59547187/w...</td>\n      <td>59547187</td>\n      <td>1</td>\n      <td>0</td>\n    </tr>\n    <tr>\n      <th>26097</th>\n      <td>python</td>\n      <td>1577814800</td>\n      <td>&lt;p&gt;I'm using ModelForms to populate two tables...</td>\n      <td>Django ModelForms - How to set default values ...</td>\n      <td>2333312</td>\n      <td>101</td>\n      <td>https://stackoverflow.com/questions/59547167/d...</td>\n      <td>59547167</td>\n      <td>71</td>\n      <td>0</td>\n    </tr>\n    <tr>\n      <th>26098</th>\n      <td>python</td>\n      <td>1577814764</td>\n      <td>&lt;p&gt;Inputs to relay must be a 8 bit number (som...</td>\n      <td>How to switch on/off relay using serial port o...</td>\n      <td>12365706</td>\n      <td>36</td>\n      <td>https://stackoverflow.com/questions/59547160/h...</td>\n      <td>59547160</td>\n      <td>11</td>\n      <td>1</td>\n    </tr>\n    <tr>\n      <th>26099</th>\n      <td>python</td>\n      <td>1577814607</td>\n      <td>&lt;p&gt;I'm practicing the alternative way of defin...</td>\n      <td>How to use FunctionType to define a function t...</td>\n      <td>7015406</td>\n      <td>57</td>\n      <td>https://stackoverflow.com/questions/59547132/h...</td>\n      <td>59547132</td>\n      <td>207</td>\n      <td>1</td>\n    </tr>\n  </tbody>\n</table>\n<p>26100 rows × 10 columns</p>\n</div>"
     },
     "metadata": {},
     "execution_count": 14
    }
   ],
   "source": [
    "dart_questions = pd.read_pickle('/home/augustsemrau/drive/6semester/CSS_02467/css-project/data/python-questions.pkl')\n",
    "dart_questions"
   ]
  },
  {
   "cell_type": "code",
   "execution_count": 12,
   "metadata": {},
   "outputs": [
    {
     "output_type": "execute_result",
     "data": {
      "text/plain": [
       "      language  question_id  score  \\\n",
       "0       python     59549191      0   \n",
       "1       python     59549177      2   \n",
       "2       python     59549172      0   \n",
       "3       python     59549155      3   \n",
       "4       python     59549155      2   \n",
       "...        ...          ...    ...   \n",
       "29227   python     59547267      1   \n",
       "29228   python     59547252      1   \n",
       "29229   python     59547187      0   \n",
       "29230   python     59547167      0   \n",
       "29231   python     59547167      0   \n",
       "\n",
       "                                                    body  creation_date  \n",
       "0      <p>It seems you're defining <code>figure</code...     1577843615  \n",
       "1      <p>One of them is a function (<code>quantile_t...     1577836548  \n",
       "2      <p><strong>You should add enctype into your he...     1578472324  \n",
       "3      <p>I will do </p>\\n\\n<pre><code>s=df.group.dro...     1577835873  \n",
       "4      <pre><code>df['grp'] = df.apply(lambda x : x.i...     1577836233  \n",
       "...                                                  ...            ...  \n",
       "29227  <p>The following are several methods of gettin...     1577841539  \n",
       "29228  <p>You have to define the variable <strong>g</...     1577816257  \n",
       "29229  <p>It looks to me like you just have the wrong...     1577819635  \n",
       "29230  <p><code>PizzaToppingJunction.create_time</cod...     1577815531  \n",
       "29231  <p>Modifying the extra fields in the junction ...     1577844637  \n",
       "\n",
       "[29232 rows x 5 columns]"
      ],
      "text/html": "<div>\n<style scoped>\n    .dataframe tbody tr th:only-of-type {\n        vertical-align: middle;\n    }\n\n    .dataframe tbody tr th {\n        vertical-align: top;\n    }\n\n    .dataframe thead th {\n        text-align: right;\n    }\n</style>\n<table border=\"1\" class=\"dataframe\">\n  <thead>\n    <tr style=\"text-align: right;\">\n      <th></th>\n      <th>language</th>\n      <th>question_id</th>\n      <th>score</th>\n      <th>body</th>\n      <th>creation_date</th>\n    </tr>\n  </thead>\n  <tbody>\n    <tr>\n      <th>0</th>\n      <td>python</td>\n      <td>59549191</td>\n      <td>0</td>\n      <td>&lt;p&gt;It seems you're defining &lt;code&gt;figure&lt;/code...</td>\n      <td>1577843615</td>\n    </tr>\n    <tr>\n      <th>1</th>\n      <td>python</td>\n      <td>59549177</td>\n      <td>2</td>\n      <td>&lt;p&gt;One of them is a function (&lt;code&gt;quantile_t...</td>\n      <td>1577836548</td>\n    </tr>\n    <tr>\n      <th>2</th>\n      <td>python</td>\n      <td>59549172</td>\n      <td>0</td>\n      <td>&lt;p&gt;&lt;strong&gt;You should add enctype into your he...</td>\n      <td>1578472324</td>\n    </tr>\n    <tr>\n      <th>3</th>\n      <td>python</td>\n      <td>59549155</td>\n      <td>3</td>\n      <td>&lt;p&gt;I will do &lt;/p&gt;\\n\\n&lt;pre&gt;&lt;code&gt;s=df.group.dro...</td>\n      <td>1577835873</td>\n    </tr>\n    <tr>\n      <th>4</th>\n      <td>python</td>\n      <td>59549155</td>\n      <td>2</td>\n      <td>&lt;pre&gt;&lt;code&gt;df['grp'] = df.apply(lambda x : x.i...</td>\n      <td>1577836233</td>\n    </tr>\n    <tr>\n      <th>...</th>\n      <td>...</td>\n      <td>...</td>\n      <td>...</td>\n      <td>...</td>\n      <td>...</td>\n    </tr>\n    <tr>\n      <th>29227</th>\n      <td>python</td>\n      <td>59547267</td>\n      <td>1</td>\n      <td>&lt;p&gt;The following are several methods of gettin...</td>\n      <td>1577841539</td>\n    </tr>\n    <tr>\n      <th>29228</th>\n      <td>python</td>\n      <td>59547252</td>\n      <td>1</td>\n      <td>&lt;p&gt;You have to define the variable &lt;strong&gt;g&lt;/...</td>\n      <td>1577816257</td>\n    </tr>\n    <tr>\n      <th>29229</th>\n      <td>python</td>\n      <td>59547187</td>\n      <td>0</td>\n      <td>&lt;p&gt;It looks to me like you just have the wrong...</td>\n      <td>1577819635</td>\n    </tr>\n    <tr>\n      <th>29230</th>\n      <td>python</td>\n      <td>59547167</td>\n      <td>0</td>\n      <td>&lt;p&gt;&lt;code&gt;PizzaToppingJunction.create_time&lt;/cod...</td>\n      <td>1577815531</td>\n    </tr>\n    <tr>\n      <th>29231</th>\n      <td>python</td>\n      <td>59547167</td>\n      <td>0</td>\n      <td>&lt;p&gt;Modifying the extra fields in the junction ...</td>\n      <td>1577844637</td>\n    </tr>\n  </tbody>\n</table>\n<p>29232 rows × 5 columns</p>\n</div>"
     },
     "metadata": {},
     "execution_count": 12
    }
   ],
   "source": [
    "dart_answers = pd.read_pickle('/home/augustsemrau/drive/6semester/CSS_02467/css-project/data/python-answers_2010-01-01_2020-01-01.pkl')\n",
    "dart_answers"
   ]
  },
  {
   "cell_type": "code",
   "execution_count": 13,
   "metadata": {},
   "outputs": [
    {
     "output_type": "execute_result",
     "data": {
      "text/plain": [
       "      language  question_id  score  \\\n",
       "0       python     59549172      0   \n",
       "1       python     59549172      0   \n",
       "2       python     59549172      0   \n",
       "3       python     59549172      0   \n",
       "4       python     59549155      0   \n",
       "...        ...          ...    ...   \n",
       "63940   python     59547252      0   \n",
       "63941   python     59547187      1   \n",
       "63942   python     59547160      0   \n",
       "63943   python     59547160      0   \n",
       "63944   python     59547132      0   \n",
       "\n",
       "                                                    body  creation_date  \n",
       "0      Please show the full traceback, and the line t...     1577836827  \n",
       "1                                 @ReinstateMonica Done.     1577837552  \n",
       "2      Is the <code>POST</code> request made with Ang...     1577837941  \n",
       "3      @OluwafemiSule yes it is.  <code>addProduct(st...     1577838977  \n",
       "4      Actually i&#39;m updating it, it&#39;s a quick...     1577836438  \n",
       "...                                                  ...            ...  \n",
       "63940  i think the problem is that the <code>schedule...     1577815921  \n",
       "63941  <code>corpus.append(i.str.cat(sep=&quot;&quot;...     1577815205  \n",
       "63942                              What is the question?     1577829367  \n",
       "63943  need to configure relay with 8bit hex code  us...     1577866405  \n",
       "63944  Here&#39;s one way to do it:      from types i...     1577816103  \n",
       "\n",
       "[63945 rows x 5 columns]"
      ],
      "text/html": "<div>\n<style scoped>\n    .dataframe tbody tr th:only-of-type {\n        vertical-align: middle;\n    }\n\n    .dataframe tbody tr th {\n        vertical-align: top;\n    }\n\n    .dataframe thead th {\n        text-align: right;\n    }\n</style>\n<table border=\"1\" class=\"dataframe\">\n  <thead>\n    <tr style=\"text-align: right;\">\n      <th></th>\n      <th>language</th>\n      <th>question_id</th>\n      <th>score</th>\n      <th>body</th>\n      <th>creation_date</th>\n    </tr>\n  </thead>\n  <tbody>\n    <tr>\n      <th>0</th>\n      <td>python</td>\n      <td>59549172</td>\n      <td>0</td>\n      <td>Please show the full traceback, and the line t...</td>\n      <td>1577836827</td>\n    </tr>\n    <tr>\n      <th>1</th>\n      <td>python</td>\n      <td>59549172</td>\n      <td>0</td>\n      <td>@ReinstateMonica Done.</td>\n      <td>1577837552</td>\n    </tr>\n    <tr>\n      <th>2</th>\n      <td>python</td>\n      <td>59549172</td>\n      <td>0</td>\n      <td>Is the &lt;code&gt;POST&lt;/code&gt; request made with Ang...</td>\n      <td>1577837941</td>\n    </tr>\n    <tr>\n      <th>3</th>\n      <td>python</td>\n      <td>59549172</td>\n      <td>0</td>\n      <td>@OluwafemiSule yes it is.  &lt;code&gt;addProduct(st...</td>\n      <td>1577838977</td>\n    </tr>\n    <tr>\n      <th>4</th>\n      <td>python</td>\n      <td>59549155</td>\n      <td>0</td>\n      <td>Actually i&amp;#39;m updating it, it&amp;#39;s a quick...</td>\n      <td>1577836438</td>\n    </tr>\n    <tr>\n      <th>...</th>\n      <td>...</td>\n      <td>...</td>\n      <td>...</td>\n      <td>...</td>\n      <td>...</td>\n    </tr>\n    <tr>\n      <th>63940</th>\n      <td>python</td>\n      <td>59547252</td>\n      <td>0</td>\n      <td>i think the problem is that the &lt;code&gt;schedule...</td>\n      <td>1577815921</td>\n    </tr>\n    <tr>\n      <th>63941</th>\n      <td>python</td>\n      <td>59547187</td>\n      <td>1</td>\n      <td>&lt;code&gt;corpus.append(i.str.cat(sep=&amp;quot;&amp;quot;...</td>\n      <td>1577815205</td>\n    </tr>\n    <tr>\n      <th>63942</th>\n      <td>python</td>\n      <td>59547160</td>\n      <td>0</td>\n      <td>What is the question?</td>\n      <td>1577829367</td>\n    </tr>\n    <tr>\n      <th>63943</th>\n      <td>python</td>\n      <td>59547160</td>\n      <td>0</td>\n      <td>need to configure relay with 8bit hex code  us...</td>\n      <td>1577866405</td>\n    </tr>\n    <tr>\n      <th>63944</th>\n      <td>python</td>\n      <td>59547132</td>\n      <td>0</td>\n      <td>Here&amp;#39;s one way to do it:      from types i...</td>\n      <td>1577816103</td>\n    </tr>\n  </tbody>\n</table>\n<p>63945 rows × 5 columns</p>\n</div>"
     },
     "metadata": {},
     "execution_count": 13
    }
   ],
   "source": [
    "dart_comments = pd.read_pickle('/home/augustsemrau/drive/6semester/CSS_02467/css-project/data/python-comments_2010-01-01_2020-01-01.pkl')\n",
    "dart_comments"
   ]
  }
 ]
}