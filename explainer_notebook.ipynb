{
 "metadata": {
  "language_info": {
   "codemirror_mode": {
    "name": "ipython",
    "version": 3
   },
   "file_extension": ".py",
   "mimetype": "text/x-python",
   "name": "python",
   "nbconvert_exporter": "python",
   "pygments_lexer": "ipython3",
   "version": 3
  },
  "orig_nbformat": 2
 },
 "nbformat": 4,
 "nbformat_minor": 2,
 "cells": [
  {
   "source": [
    "# MOTIVATION\n",
    "## - What is your dataset?\n",
    "\n",
    "## - Why did you choose this/these particular dataset(s)?\n",
    "\n",
    "## - What was your goal for the end user's experience?\n",
    "\n"
   ],
   "cell_type": "markdown",
   "metadata": {}
  },
  {
   "cell_type": "code",
   "execution_count": null,
   "metadata": {},
   "outputs": [],
   "source": []
  },
  {
   "source": [
    "# BASIC STATS - Let's understand the dataset better \n",
    "\n",
    "## - Write about your choices in data cleaning and preprocessing\n",
    "\n",
    "## - Write a short section that discusses the dataset stats (here you can recycle the work you did for Project Assignment A)\n"
   ],
   "cell_type": "markdown",
   "metadata": {}
  },
  {
   "cell_type": "code",
   "execution_count": null,
   "metadata": {},
   "outputs": [],
   "source": []
  },
  {
   "source": [
    "# TOOLS, THEORY AND ANALYSIS - Describe the process of theory to insight \n",
    "\n",
    "## - Talk about how you've worked with text, including regular expressions, unicode, etc.\n",
    "\n",
    "## - Describe which network science tools and data analysis strategies you've used, how those network science measures work, and why the tools you've chosen are right for the problem you're solving.\n",
    "\n",
    "## - How did you use the tools to understand your dataset?"
   ],
   "cell_type": "markdown",
   "metadata": {}
  },
  {
   "cell_type": "code",
   "execution_count": null,
   "metadata": {},
   "outputs": [],
   "source": []
  },
  {
   "source": [
    "# DISCUSSION - Think critically about your creation \n",
    "\n",
    "## - What went well?\n",
    "\n",
    "## - What is still missing? What could be improved?, Why?"
   ],
   "cell_type": "markdown",
   "metadata": {}
  },
  {
   "cell_type": "code",
   "execution_count": null,
   "metadata": {},
   "outputs": [],
   "source": []
  }
 ]
}